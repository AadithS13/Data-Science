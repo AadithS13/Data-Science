{
  "nbformat": 4,
  "nbformat_minor": 0,
  "metadata": {
    "colab": {
      "name": "Joke_Rating_Prediction.ipynb",
      "provenance": [],
      "authorship_tag": "ABX9TyPxctIoigSa+wYB44DEw7em",
      "include_colab_link": true
    },
    "kernelspec": {
      "name": "python3",
      "display_name": "Python 3"
    },
    "language_info": {
      "name": "python"
    }
  },
  "cells": [
    {
      "cell_type": "markdown",
      "metadata": {
        "id": "view-in-github",
        "colab_type": "text"
      },
      "source": [
        "<a href=\"https://colab.research.google.com/github/AadithS13/Data-Science/blob/main/Joke_Rating_Prediction.ipynb\" target=\"_parent\"><img src=\"https://colab.research.google.com/assets/colab-badge.svg\" alt=\"Open In Colab\"/></a>"
      ]
    },
    {
      "cell_type": "code",
      "source": [
        "from google.colab import drive\n",
        "drive.mount('/content/drive')"
      ],
      "metadata": {
        "colab": {
          "base_uri": "https://localhost:8080/"
        },
        "id": "QfSHvLjYzdql",
        "outputId": "6613ffb0-52ef-400a-dc7a-9efedbc5fd97"
      },
      "execution_count": 1,
      "outputs": [
        {
          "output_type": "stream",
          "name": "stdout",
          "text": [
            "Mounted at /content/drive\n"
          ]
        }
      ]
    },
    {
      "cell_type": "code",
      "execution_count": 2,
      "metadata": {
        "id": "g30uVGpLzTP0"
      },
      "outputs": [],
      "source": [
        "import pandas as pd\n",
        "import seaborn as sns\n",
        "import matplotlib.pyplot as plt\n"
      ]
    },
    {
      "cell_type": "code",
      "source": [
        "df_j = pd.read_csv('/content/drive/MyDrive/Analytics Vidhya/Joke Prediction/jokes.csv')\n",
        "df_t = pd.read_csv('/content/drive/MyDrive/Analytics Vidhya/Joke Prediction/train.csv')"
      ],
      "metadata": {
        "id": "hXXvAWkLzlox"
      },
      "execution_count": 3,
      "outputs": []
    },
    {
      "cell_type": "code",
      "source": [
        "df = pd.merge(df_t,df_j)"
      ],
      "metadata": {
        "id": "zWFnZVYKzyMI"
      },
      "execution_count": 4,
      "outputs": []
    },
    {
      "cell_type": "code",
      "source": [
        "df.head()"
      ],
      "metadata": {
        "colab": {
          "base_uri": "https://localhost:8080/",
          "height": 206
        },
        "id": "X7Cssuxvz8k-",
        "outputId": "17b2f293-639a-4b63-a210-30efb05a0129"
      },
      "execution_count": 5,
      "outputs": [
        {
          "output_type": "execute_result",
          "data": {
            "text/html": [
              "\n",
              "  <div id=\"df-8128cc8e-14e2-41de-b0fe-cfa00eca1a8f\">\n",
              "    <div class=\"colab-df-container\">\n",
              "      <div>\n",
              "<style scoped>\n",
              "    .dataframe tbody tr th:only-of-type {\n",
              "        vertical-align: middle;\n",
              "    }\n",
              "\n",
              "    .dataframe tbody tr th {\n",
              "        vertical-align: top;\n",
              "    }\n",
              "\n",
              "    .dataframe thead th {\n",
              "        text-align: right;\n",
              "    }\n",
              "</style>\n",
              "<table border=\"1\" class=\"dataframe\">\n",
              "  <thead>\n",
              "    <tr style=\"text-align: right;\">\n",
              "      <th></th>\n",
              "      <th>id</th>\n",
              "      <th>user_id</th>\n",
              "      <th>joke_id</th>\n",
              "      <th>Rating</th>\n",
              "      <th>joke_text</th>\n",
              "    </tr>\n",
              "  </thead>\n",
              "  <tbody>\n",
              "    <tr>\n",
              "      <th>0</th>\n",
              "      <td>31030_110</td>\n",
              "      <td>31030</td>\n",
              "      <td>110</td>\n",
              "      <td>2.750</td>\n",
              "      <td>Judy was having trouble with her computer, so ...</td>\n",
              "    </tr>\n",
              "    <tr>\n",
              "      <th>1</th>\n",
              "      <td>9137_110</td>\n",
              "      <td>9137</td>\n",
              "      <td>110</td>\n",
              "      <td>1.719</td>\n",
              "      <td>Judy was having trouble with her computer, so ...</td>\n",
              "    </tr>\n",
              "    <tr>\n",
              "      <th>2</th>\n",
              "      <td>27649_110</td>\n",
              "      <td>27649</td>\n",
              "      <td>110</td>\n",
              "      <td>5.031</td>\n",
              "      <td>Judy was having trouble with her computer, so ...</td>\n",
              "    </tr>\n",
              "    <tr>\n",
              "      <th>3</th>\n",
              "      <td>35355_110</td>\n",
              "      <td>35355</td>\n",
              "      <td>110</td>\n",
              "      <td>3.031</td>\n",
              "      <td>Judy was having trouble with her computer, so ...</td>\n",
              "    </tr>\n",
              "    <tr>\n",
              "      <th>4</th>\n",
              "      <td>5478_110</td>\n",
              "      <td>5478</td>\n",
              "      <td>110</td>\n",
              "      <td>3.094</td>\n",
              "      <td>Judy was having trouble with her computer, so ...</td>\n",
              "    </tr>\n",
              "  </tbody>\n",
              "</table>\n",
              "</div>\n",
              "      <button class=\"colab-df-convert\" onclick=\"convertToInteractive('df-8128cc8e-14e2-41de-b0fe-cfa00eca1a8f')\"\n",
              "              title=\"Convert this dataframe to an interactive table.\"\n",
              "              style=\"display:none;\">\n",
              "        \n",
              "  <svg xmlns=\"http://www.w3.org/2000/svg\" height=\"24px\"viewBox=\"0 0 24 24\"\n",
              "       width=\"24px\">\n",
              "    <path d=\"M0 0h24v24H0V0z\" fill=\"none\"/>\n",
              "    <path d=\"M18.56 5.44l.94 2.06.94-2.06 2.06-.94-2.06-.94-.94-2.06-.94 2.06-2.06.94zm-11 1L8.5 8.5l.94-2.06 2.06-.94-2.06-.94L8.5 2.5l-.94 2.06-2.06.94zm10 10l.94 2.06.94-2.06 2.06-.94-2.06-.94-.94-2.06-.94 2.06-2.06.94z\"/><path d=\"M17.41 7.96l-1.37-1.37c-.4-.4-.92-.59-1.43-.59-.52 0-1.04.2-1.43.59L10.3 9.45l-7.72 7.72c-.78.78-.78 2.05 0 2.83L4 21.41c.39.39.9.59 1.41.59.51 0 1.02-.2 1.41-.59l7.78-7.78 2.81-2.81c.8-.78.8-2.07 0-2.86zM5.41 20L4 18.59l7.72-7.72 1.47 1.35L5.41 20z\"/>\n",
              "  </svg>\n",
              "      </button>\n",
              "      \n",
              "  <style>\n",
              "    .colab-df-container {\n",
              "      display:flex;\n",
              "      flex-wrap:wrap;\n",
              "      gap: 12px;\n",
              "    }\n",
              "\n",
              "    .colab-df-convert {\n",
              "      background-color: #E8F0FE;\n",
              "      border: none;\n",
              "      border-radius: 50%;\n",
              "      cursor: pointer;\n",
              "      display: none;\n",
              "      fill: #1967D2;\n",
              "      height: 32px;\n",
              "      padding: 0 0 0 0;\n",
              "      width: 32px;\n",
              "    }\n",
              "\n",
              "    .colab-df-convert:hover {\n",
              "      background-color: #E2EBFA;\n",
              "      box-shadow: 0px 1px 2px rgba(60, 64, 67, 0.3), 0px 1px 3px 1px rgba(60, 64, 67, 0.15);\n",
              "      fill: #174EA6;\n",
              "    }\n",
              "\n",
              "    [theme=dark] .colab-df-convert {\n",
              "      background-color: #3B4455;\n",
              "      fill: #D2E3FC;\n",
              "    }\n",
              "\n",
              "    [theme=dark] .colab-df-convert:hover {\n",
              "      background-color: #434B5C;\n",
              "      box-shadow: 0px 1px 3px 1px rgba(0, 0, 0, 0.15);\n",
              "      filter: drop-shadow(0px 1px 2px rgba(0, 0, 0, 0.3));\n",
              "      fill: #FFFFFF;\n",
              "    }\n",
              "  </style>\n",
              "\n",
              "      <script>\n",
              "        const buttonEl =\n",
              "          document.querySelector('#df-8128cc8e-14e2-41de-b0fe-cfa00eca1a8f button.colab-df-convert');\n",
              "        buttonEl.style.display =\n",
              "          google.colab.kernel.accessAllowed ? 'block' : 'none';\n",
              "\n",
              "        async function convertToInteractive(key) {\n",
              "          const element = document.querySelector('#df-8128cc8e-14e2-41de-b0fe-cfa00eca1a8f');\n",
              "          const dataTable =\n",
              "            await google.colab.kernel.invokeFunction('convertToInteractive',\n",
              "                                                     [key], {});\n",
              "          if (!dataTable) return;\n",
              "\n",
              "          const docLinkHtml = 'Like what you see? Visit the ' +\n",
              "            '<a target=\"_blank\" href=https://colab.research.google.com/notebooks/data_table.ipynb>data table notebook</a>'\n",
              "            + ' to learn more about interactive tables.';\n",
              "          element.innerHTML = '';\n",
              "          dataTable['output_type'] = 'display_data';\n",
              "          await google.colab.output.renderOutput(dataTable, element);\n",
              "          const docLink = document.createElement('div');\n",
              "          docLink.innerHTML = docLinkHtml;\n",
              "          element.appendChild(docLink);\n",
              "        }\n",
              "      </script>\n",
              "    </div>\n",
              "  </div>\n",
              "  "
            ],
            "text/plain": [
              "          id  ...                                          joke_text\n",
              "0  31030_110  ...  Judy was having trouble with her computer, so ...\n",
              "1   9137_110  ...  Judy was having trouble with her computer, so ...\n",
              "2  27649_110  ...  Judy was having trouble with her computer, so ...\n",
              "3  35355_110  ...  Judy was having trouble with her computer, so ...\n",
              "4   5478_110  ...  Judy was having trouble with her computer, so ...\n",
              "\n",
              "[5 rows x 5 columns]"
            ]
          },
          "metadata": {},
          "execution_count": 5
        }
      ]
    },
    {
      "cell_type": "code",
      "source": [
        "df.shape"
      ],
      "metadata": {
        "colab": {
          "base_uri": "https://localhost:8080/"
        },
        "id": "hEtfxqBhz97W",
        "outputId": "68bf202d-e7a7-4540-c0c4-6fae11584ec3"
      },
      "execution_count": 6,
      "outputs": [
        {
          "output_type": "execute_result",
          "data": {
            "text/plain": [
              "(1092059, 5)"
            ]
          },
          "metadata": {},
          "execution_count": 6
        }
      ]
    },
    {
      "cell_type": "code",
      "source": [
        "df['joke_text'].unique().sum()"
      ],
      "metadata": {
        "colab": {
          "base_uri": "https://localhost:8080/",
          "height": 122
        },
        "id": "7m-zzxin0FfY",
        "outputId": "e3bf2fce-c37c-4542-e8ee-13ff96c7e3d1"
      },
      "execution_count": 7,
      "outputs": [
        {
          "output_type": "execute_result",
          "data": {
            "application/vnd.google.colaboratory.intrinsic+json": {
              "type": "string"
            },
            "text/plain": [
              "'Judy was having trouble with her computer, so she called Tony, the computer guy, over to her desk. Tony clicked a couple buttons and solved the problem. As he was walking away, Judy called after him, \"So, what was wrong?\" And he replied, \"It was an ID Ten T Error.\" A puzzled expression ran riot over Judy\\'s face. \"An ID Ten T Error? What\\'s that...in case I need to fix it again?\" He gave her a grin...\"Haven\\'t you ever heard of an ID Ten T Error before?\" \"No,\" replied Judy. \"Write it down,\" he said, \"and I think you\\'ll figure it out.\" (She wrote...) I D 1 0 TOne day the first grade teacher was reading the story of the Three Little Pigs to her class. She came to the part of the story where the first pig was trying to accumulate the building materials for his home. She read, \"...and so the pig went up to the man with the wheelbarrow full of straw and said, \\'Pardon me sir, but may I have some of that straw to build my house?\\'\" The teacher paused then asked the class, \"And what do you think that man said?\" One little boy raised his hand and said, \"I know...he said, \\'Holy Shit! A talking pig!\\'\"Q. What is orange and sounds like a parrot? A. A carrot.Two attorneys went into a diner and ordered two drinks. Then they produced sandwiches from their briefcases and started to eat. The owner became quite concerned and marched over and told them, \"You can\\'t eat your own sandwiches in here!\" The attorneys looked at each other, shrugged their shoulders and then exchanged sandwiches.A man is driving in the country one evening when his car stalls and won\\'t start. He goes up to a nearby farm house for help, and because it is suppertime he is asked to stay for supper. When he sits down at the table he notices that a pig is sitting at the table with them for supper and that the pig has a wooden leg. As they are eating and chatting, he eventually asks the farmer why the pig is there and why it has a wooden leg. \"Oh,\" says the farmer, \"that is a very special pig. Last month my wife and daughter were in the barn when it caught fire. The pig saw this, ran to the barn, tipped over a pail of water, crawled over the wet floor to reach them and pulled them out of the barn safely. A special pig like that, you just don\\'t eat it all at once!\"What do you get when you run over a parakeet with a lawnmower? Shredded tweet.On the first day of college, the Dean addressed the students, pointing out some of the rules: \"The female dormitory will be out-of-bounds for all male students and the male dormitory to the female students. Anybody caught breaking this rule will be finded $20 the first time.\" He continued, \"Anybody caught breaking this rule the second time will be fined $60. Being caught a third time will cost you a fine of $180. Are there any questions?\" At this point, a male student in the crowd inquired: \"How much for a season pass?\"Q: If a person who speaks three languages is called \"trilingual,\" and a person who speaks two languages is called \"bilingual,\" what do you call a person who only speaks one language? A: American!Two men are discussing the age old question: who enjoys sex more, the man or the woman? A woman walks by and listens in for a while and then interrupts: \"Listen, you guys. You know when your ear itches and you put in your little finger and wiggle it around for a while? Afterward, which feels better, your finger or your ear?\"A man arrives at the gates of heaven. St. Peter asks, \"Religion?\" The man says, \"Methodist.\" St. Peter looks down his list, and says, \"Go to room 24, but be very quiet as you pass room 8.\" Another man arrives at the gates of heaven. \"Religion?\" \"Baptist.\" \"Go to room 18, but be very quiet as you pass room 8.\" A third man arrives at the gates. \"Religion?\" \"Jewish.\" \"Go to room 11, but be very quiet as you pass room 8.\" The man says, \"I can understand there being different rooms for different religions, but why must I be quiet when I pass room 8?\" St. Peter tells him, \"Well, the Catholics are in room 8, and they think they\\'re the only ones here.\"An engineer dies and reports to the pearly gates. St. Peter checks his dossier and says, \"Ah, you\\'\\'re an engineer--you\\'re in the wrong place.\" So, the engineer reports to the gates of hell and is let in. Pretty soon, the engineer gets dissatisfied with the level of comfort in hell, and starts designing and building improvements. After awhile, they\\'ve got air conditioning, flush toilets and escalators, and the engineer is a pretty popular guy. One day, God calls Satan up on the telephone and says with a sneer, \"So, how\\'s it going down there in hell?\" Satan replies, \"Hey, things are going great. We\\'ve got air conditioning, flush toilets and escalators, and there\\'s no telling what this engineer is going to come up with next.\" God replies, \"What?? You\\'ve got an engineer? That\\'s a mistake--he should never have gotten down there; send him up here.\" Satan says, \"No way.\" I like having an engineer on the staff, and I\\'m keeping him.\" God says, \"Send him back up here or I\\'ll sue.\" Satan laughs uproariously and answers, \"Yeah, right. And just where are YOU going to get a lawyer?\"Q: What is the Australian word for a boomerang that won\\'t come back? A: A stick.Chuck Norris\\' calendar goes straight from March 31st to April 2nd; no one fools Chuck Norris.A neutron walks into a bar and orders a drink. \"How much do I owe you?\" the neutron asks. The bartender replies, \"For you, no charge.\"Reaching the end of a job interview, the human resources person asked a young engineer fresh out of Stanford, \"And what starting salary were you looking for?\" The engineer said, \"In the neighborhood of $125,000 a year, depending on the benefits package.\" The interviewer said, \"Well, what would you say to a package of 5-weeks vacation, 14 paid holidays, full medical and dental, company matching retirement fund to 50% of salary, and a company car leased every 2 years--say, a red Corvette?\" The engineer sat up straight and said, \"Wow! Are you kidding?\" And the interviewer replied, \"Yeah, but you started it.\"A man and Cindy Crawford get stranded on a desert island. After a couple of days they fall in love and start sleeping together. Time passes and the man seems frustrated. Cindy asks if there is anything she can do, and he says there is one thing: \"Could you put on this baseball cap and go to the other side of the island and answer me when I call you Bob?\" She agrees. The next day he is walking on the other side of the island and runs into her. He says, \"Hi Bob!\" She says, \"Hello, what\\'s up?\" He replies, \"Bob, you won\\'t believe it: I\\'ve been sleeping with Cindy Crawford for the past two weeks!\"The Pope dies and, naturally, goes to heaven. He\\'s met by the reception committee, and after a whirlwind tour he is told that he can enjoy any of the myriad of recreations available. He decides that he wants to read all of the ancient original text of the Holy Scriptures, so he spends the next eon or so learning languages. After becoming a linguistic master, he sits down in the library and begins to pour over every version of the Bible, working back from most recent \"Easy Reading\" to the original script. All of a sudden there is a scream in the library. The angels come running in only to find the Pope huddled in his chair, crying to himself and muttering, \"An \\'R\\'! The scribes left out the \\'R\\'!\" A particularly concerned angel takes him aside, and offering comfort, asks him what the problem is and what he means. After collecting his wits, the Pope sobs again, \"It\\'s the letter \\'R\\'. They left out the \\'R\\'. The word was supposed to be \\'CELEBRATE\\'!\"An engineer, a physicist and a mathematician are sleeping in a room. There is a fire in the room. The engineer wakes up, sees the fire, picks up the bucket of water and douses the fire and goes back to sleep. Again there is a fire in the room. This time, the physicist wakes up, notices the bucket, fills it with water, calculates the optimal trajectory and douses the fire in minimum amount of water and goes back to sleep. Again there is a fire. This time the mathematician wakes up. He looks at the fire, looks at the bucket and the water and exclaims, \"A solution exists!\" and goes back to sleep.A couple of hunters are out in the woods in the deep south when one of them falls to the ground. He doesn\\'t seem to be breathing, and his eyes are rolled back in his head. The other guy whips out his cell phone and calls 911. He gasps to the operator, \"My friend is dead! What can I do?\" The operator, in a calm and soothing voice, says, \"Alright, take it easy. I can help. First, let\\'s make sure he\\'s dead.\" There is silence, and then a gun shot is heard. The hunter comes back on the line. \"Okay. Now what??\"A Briton, a Frenchman and a Russian are viewing a painting of Adam and Eve frolicking in the Garden of Eden. \"Look at their reserve, their calm,\" muses the Brit. \"They must be British.\" \"Nonsense,\" the Frenchman disagrees. \"They\\'re naked, and so beautiful. Clearly, they are French.\" \"No way! They have no clothes and no shelter,\" the Russian points out, \"They have only an apple to eat, and they are being told they live in a paradise. Obviously, they are Russian.\"There was an engineer who had an exceptional gift for fixing all things mechanical. After serving his company loyally for over 30 years, he happily retired. Several years later the company contacted him regarding a seemingly impossible problem they were having with one of their multi-million dollar machines. They had tried everything and everyone else to get the machine fixed, but to no avail. In desperation, they called on the retired engineer who had solved so many of their problems in the past. The engineer reluctantly took the challenge. He spent a day studying the huge machine. At the end of the day, he marked a small \"x\" in chalk on a particular component of the machine and proudly stated: \"This is where your problem is.\" The part was replaced and the machine worked perfectly again. The company received a bill for $50,000 from the engineer for his service. They demanded an itemized accounting of his charges. The engineer responded briefly: One chalk mark: $1. Knowing where to put it: $49,999. He was paid in full and the engineer retired again in peace.How many Irishmen does it take to change a lightbulb? Two. One to hold the lightbulb and the other to drink until the room spins.A man goes into a drug store and asks the pharmacist if he can give him something for the hiccups. The pharmacist promptly reaches out and slaps the man\\'s face. \"What the heck did you do that for?!\" the man screams. \"Well, you don\\'t have the hiccups anymore, do you?\" The man says, \"No I don\\'t, you IDIOT...but my wife out in the car still does!\"An old Scotsman is sitting with a younger Scottish gentleman and says to the boy, \"Ah, lad, look out that window. You see that stone wall there? I built it with me own bare hands, placed every stone meself. But do they call me MacGregor the wall builder? No!\" He takes a few sips of his beer then says, \"Aye, and look out on that lake and eye that beautiful pier. I built it meself, laid every board and hammered each nail, but do they call me MacGregor the pier builder? No!\" He continues: \"And lad, you see that road? That too I build with me own bare hands. Laid every inch of pavement meself, but do they call MacGregor the road builder? No!\" Again he returns to his beer for a few sips, and then says, \"Agh, but you screw one sheep...\"Out in the backwoods of some midwestern state, little Johnny arrives at school an hour late. Teacher: \"Why are you so late, John?\" Johny: \"My big brother got shot in the ass.\" (The teacher corrects his speech.) Teacher: \"Rectum.\" Johnny: \"Wrecked him!? Hell, It damn near killed him!\"A little girl asked her father, \"Daddy? Do all fairy tales begin with \\'Once Upon a Time\\'?\" He replied, \"No, there is a whole series of fairy tales that begin with \\'If elected I promise\\'.\"A man piloting a hot air balloon discovers he has wandered off course and is hopelessly lost. He descends to a lower altitude and locates a man down on the ground. He lowers the balloon further and shouts, \"Excuse me, can you tell me where I am?\" The man below says, \"Yes, you\\'re in a hot air balloon, about 30 feet above this field.\" \"You must work in Information Technology,\" says the balloonist. \"Yes I do,\" replies the man. \"And how did you know that?\" \"Well,\" says the balloonist, \"what you told me is technically correct, but of no use to anyone.\" The man below says, \"You must work in management.\" \"I do,\" replies the balloonist, \"how did you know?\" \"Well,\" says the man, \"you don\\'t know where you are, or where you\\'re going, but you expect my immediate help. You\\'re in the same position you were before we met, but now it\\'s my fault!\"Mickey Mouse is having a nasty divorce with Minnie Mouse. Mickey spoke to the judge about the separation. \"I\\'m sorry Mickey, but I can\\'t legally separate you two on the grounds that Minnie is mentally insane...\" Mickey replied, \"I didn\\'t say she was mentally insane, I said that she\\'s fucking Goofy!\"An American tourist goes into a restaurant in Spain and orders the specialty of the house. When his dinner arrives, he asks the waiter what it is. \"These, senor,\" replied the waiter in broken English, \"are the testicles of the bull killed in the ring today.\" The tourist swallowed hard but tasted the dish and thought it was delicious. So he comes back the next evening and orders the same item. When it is served, he says to the waiter, \"These testicles...are much smaller than the ones I had last night.\" \"Yes, senor,\" replied the waiter, \"You see...the bull, he does not always lose.An old man goes to the doctor for his yearly physical, his wife tagging along. When the doctor enters the examination room, he tells the old man, \"I need a urine sample, a stool sample and a sperm sample.\" The old man, being hard of hearing, looks at his wife and yells: \"WHAT? What did he say? What\\'s he want?\" His wife yells back, \"He needs your underwear.\"What is the difference between men and women? A woman wants one man to satisfy her every need. A man wants every woman to satisfy his one need.In a Veteran\\'s Day speech, President Bush vowed, \"We will finish the mission. Period.\" Afterwards, he was advised that he doesn\\'t have to read the punctuation marks.Q. Did you hear about the dyslexic devil worshiper? A. He sold his soul to Santa.An artist asked the gallery owner if there had been any interest in his paintings currently on display. \"I\\'ve got good news and bad news,\" the owner replied. \"The good news is that a gentleman inquired about your work and wondered if it would appreciate in value after your death. When I told him it would, he bought all fifteen of your paintings.\" \"That\\'s wonderful!\" the artist exclaimed. \"What\\'s the bad news?\" With concern, the gallery owner replied:\"The guy was your doctor.\"A lawyer opened the door of his BMW, when suddenly a car came along and hit the door, ripping it off completely. When the police arrived at the scene, the lawyer was complaining bitterly about the damage to his precious BMW. \"Officer, look what they\\'ve done to my Beeeeemer!\" he whined. \"You lawyers are so materialistic, you make me sick!\" retorted the officer. \"You\\'re so worried about your stupid BMW that you didn\\'t even notice your left arm was ripped off!\" \"Oh my gaaaad...\" replied the lawyer, finally noticing the bloody left shoulder where his arm once was. \"Where\\'s my Rolex?!\"How many men does it take to screw in a light bulb? One. Men will screw anything.Q: Do you know the difference between an intelligent male and the Sasquatch? A: There have been actual reported sightings of the Sasquatch.Bill Clinton returns from a vacation in Arkansas and walks down the steps of Air Force One with two pigs under his arms. At the bottom of the steps, he says to the honor guardsman, \"These are genuine Arkansas Razor-Back Hogs. I got this one for Chelsea and this one for Hillary.\" The guardsman replies, \"Nice trade, Sir.\"A guy goes into confession and says to the priest, \"Father, I\\'m 80 years old, widower, with 11 grandchildren. Last night I met two beautiful flight attendants. They took me home and I made love to both of them. Twice.\" The priest says, \"Well, my son, when was the last time you were in confession?\" \"Never Father, I\\'m Jewish.\" \"So then, why are you telling me?\" \"I\\'m telling everybody!\"A group of girlfriends is on vacation when they see a 5-story hotel with a sign that reads: \"For Women Only.\" Since they are without their boyfriends and husbands, they decide to go in. The bouncer, a very attractive guy, explains to them how it works. \"We have 5 floors. Go up floor by floor, and once you find what you are looking for, you can stay there. It\\'s easy to decide since each floor has a sign telling you what\\'s inside.\" So they start going up and on the first floor the sign reads: \"All the men on this floor are short and plain.\" The friends laugh and without hesitation move on to the next floor. The sign on the second floor reads: \"All the men here are short and handsome.\" Still, this isn\\'t good enough, so the friends continue on up. They reach the third floor and the sign reads: \"All the men here are tall and plain.\" They still want to do better, and so, knowing there are still two floors left, they continued on up. On the fourth floor, the sign is perfect: \"All the men here are tall and handsome.\" The women get all excited and are going in when they realize that there is still one floor left. Wondering what they are missing, they head on up to the fifth floor. There they find a sign that reads: \"There are no men here. This floor was built only to prove that there is no way to please a woman.\"A preist, a 12-year-old kid, and the smartest guy in the world are on a plane. The pilot screams, \"The plane is going down! You have to jump!\" He then grabs a parachute and jumps off, leaving only two more parachutes on the plane. The smartest guy in the world says, \"I have to go. I mean, I\\'m the smartest guy in the world!\" He grabs a parachute, and jumps. The priest then looks at the 12-year-old kid, and says, \"Go, my son. You have a long life to live.\" The kid calmly responds: \"Dude, chill. We\\'ll be fine. The \\'smartest guy in the world\\' took my backpack.\"There once was a man and a woman that both got in a terrible car wreck. Both of their vehicles were completely destroyed, buy fortunately, no one was hurt. In thankfulness, the woman said to the man, \"We are both okay, so we should celebrate. I have a bottle of wine in my car: let\\'s open it.\" So the woman got the bottle out of the car, and handed it to the man. The man took a really big drink, and handed the woman the bottle. The woman closed the bottle and put it down. The man asked, \"Aren\\'t you going to take a drink?\" The woman cleverly replied, \"No, I think I\\'ll just wait for the cops to get here.\"A teacher is explaining to her class how different languages use negatives differently. She says, \"In all languages, a positive followed by a negative or a negative followed by a positive makes a negative. In some languages, two negatives together make a positive, while in others they make a negative. But in no language do two positives make a negative.\" One of the students puts up his hand and says, \"Yeah, right.\"They asked the Japanese visitor if they have elections in his country. \"Every morning,\" he answers.An explorer in the deepest Amazon suddenly finds himself surrounded by a bloodthirsty group of natives. Upon surveying the situation, he says quietly to himself, \"Oh God, I\\'m screwed.\" The sky darkens and a voice booms out, \"No, you are NOT screwed. Pick up that stone at your feet and bash in the head of the chief standing in front of you.\" So with the stone he bashes the life out of the chief. He stands above the lifeless body, breathing heavily and looking at 100 angry natives... The voice booms out again, \"Okay....NOW you\\'re screwed.\"A couple has been married for 75 years. For the husband\\'s 95th birthday, his wife decides to surprise him by hiring a prostitute. That day, the doorbell rings. The husband uses his walker to get to the door and opens it. A 21-year-old in a latex outfit smiles and says, \"Hi, I here to give you super sex!\" The old man says, \"I\\'ll take the soup.\"Early one morning a mother went to her sleeping son and woke him up. \"Wake up, son. It\\'s time to go to school.\" \"But why, Mama? I don\\'t want to go to school.\" \"Give me two reasons why you don\\'t want to go to school.\" \"One, all the children hate me. Two, all the teachers hate me.\" \"Oh, that\\'s no reason. Come on, you have to go to school.\" \"Give me two good reasons why I should go to school.\" \"One, you are fifty-two years old. Two, you are the principal of the school.\"The new employee stood before the paper shredder looking confused. \"Need some help?\" a secretary asked. \"Yes,\" he replied. \"How does this thing work?\" \"Simple,\" she said, taking the fat report from his hand and feeding it into the shredder. \"Thanks, but where do the copies come out?\"The new employee stood before the paper shredder looking confused. \"Need some help?\" a secretary, walking by, asked. \"Yes,\" he replied, \"how does this thing work?\" \"Simple,\" she said, taking the fat report from his hand and feeding it into the shredder. \"Thanks, but where do the copies come out?\"When most people claim to be \"killing time\", it\\'s only an expression. When Chuck Norris kills time, the minutes actually cease to exist.When my three-year-old son opened the birthday gift from his grandmother, he discovered a water pistol. He squealed with delight and headed for the nearest sink. I was not so pleased. I turned to Mom and said, \"I\\'m surprised at you. Don\\'t you remember how we used to drive you crazy with water guns?\" Mom smiled and then replied...\"I remember.\"Employer to applicant: \"In this job we need someone who is responsible.\" Applicant: \"I\\'m the one you want. On my last job, every time anything went wrong, they said I was responsible.\"Deep within a forest, a little turtle began to climb a tree. After hours of effort, he reached the top, jumped into the air waving his front legs and crashed to the ground. After recovering, he slowly climbed the tree again, jumped, and fell to the ground. The turtle tried again and again, while a couple of birds sitting on a branch watched his sad efforts. Finally, the female bird turned to her mate. \"Dear,\" she chirped, \"I think it\\'s time to tell him he\\'s adopted.\"Just a thought... Before criticizing someone, walk a mile in their shoes. Then, when you do criticize them, you will be a mile away and have their shoes!An American, a Scot and a Canadian were in a terrible car accident. They were all brought to the same emergency room, but all three of them died before they arrived. Just as they were about to put the toe tag on the American, he stirred and opened his eyes. Astonished, the doctors and nurses present asked him what happened. \"Well,\" said the American, \"I remember the crash, and then there was a beautiful light, and then the Canadian and the Scot and I were standing at the gate s of heaven. St. Peter approached us and said that we were all to young to die, and that for a donation of $50, we could return to earth. So of course I pulled out my wallet and gave him the $50, and the next thing I knew I was back here.\" \"That\\'s amazing!\" said the one of the doctors, \"But what happened to the other two?\" \"Last I saw them,\" replied the American, \"the Scot was haggling over the price and the Canadian was waiting for the government to pay his.\"A drunk staggers into a Catholic Church, enters a confessional booth, sits down, but says nothing. The Priest coughs a few times to get his attention but the drunk just sits there. Finally, the Priest pounds three times on the wall. The drunk mumbles, \"Ain\\'t no use knockin, there\\'s no paper on this side either.\"May I take your order? the waiter asks. \"Yes, how do you prepare your chickens?\" \"Nothing special, sir,\" he replies. \"We just tell them straight out that they\\'re going to die.\"Q: What is the difference between mechanical engineers and civil engineers? A: Mechanical Engineers build weapons, civil engineers build targets.A dog walks into Western Union and asks the clerk to send a telegram. He fills out a form on which he writes down the telegram he wishes to send: \"Bow wow wow, bow wow wow.\" The clerk says, \"You can add another \\'Bow wow\\' for the same price.\" The dog responded, \"Now wouldn\\'t that sound a little silly?\"Q: How many presidents does it take to screw in a light bulb? A: It depends upon your definition of screwing a light bulb.A blonde, brunette, and a red head are all lined up to be shot to death by a firing squad. The brunette shouts, \"Tornado!\" and the riflemen turn around to see the tornado. It isn\\'t there, and the brunette uses that time to escape. The red head yells, \"Lightning!\" and the riflemen again turn to see the disaster, yet there is no disaster and the red head escapes. The blonde yells, \"Fire!\" The riflemen do.(A) The Japanese eat very little fat and suffer fewer heart attacks than the British or Americans. (B) On the other hand, the French eat a lot of fat and also suffer fewer heart attacks than the British or Americans. (C) The Chinese drink very little red wine and suffer fewer heart attacks than the British or Americans. (D) The Italians drink excessive amounts of red wine and also suffer fewer heart attacks than the British or Americans. (E) Conclusion: Eat and drink what you like. It\\'s speaking English that kills you.A radio conversation between a US naval ship and Canadian authorities... Americans: Please divert your course 15 degrees to the North to avoid a collision. Canadians: Recommend you divert YOUR course 15 degrees to the South to avoid a collision. Americans: This is the captain of a US Navy ship. I say again, divert YOUR course. Canadians: No. I say again, you divert YOUR course. Americans: This is the aircraft carrier USS Lincoln, the second largest ship in the United States\\' Atlantic Fleet. We are accompanied by three destroyers, three cruisers and numerous support vessels. I demand that you change your course 15 degrees North, that\\'s ONE FIVE DEGREES NORTH, or counter-measures will be undertaken to ensure the safety of this ship. Canadians: This is a lighthouse. Your call.How many feminists does it take to screw in a light bulb? That\\'s not funny.A new business was opening and one of the owner\\'s friends wanted to send him flowers for the occasion. They arrived at the new business site and the owner read the card, \"Rest in Peace.\" The owner was angry and called the florist to complain. After he had told the florist of the obvious mistake and how angry he was, the florist replied, \"Sir, I\\'m really sorry for the mistake, but rather than getting angry, you should imagine this: somewhere there is a funeral taking place today, and they have flowers with a note saying, \\'Congratulations on your new location!\\'\"A man went to apply for a job. After filling out all of his applications, he waited anxiously for the outcome. The employer read all his applications and said, \"We have an opening for people like you.\" \"Oh, great,\" he said. \"What is it?\" \"It\\'s called the door!\"A group of managers were given the assignment to measure the height of a flagpole. So they go out to the flagpole with ladders and tape measures, and they\\'re falling off the ladders, dropping the tape measures--the whole thing is just a mess. An engineer comes along and sees what they\\'re trying to do, walks over, pulls the flagpole out of the ground, lays it flat, measures it from end to end, gives the measurement to one of the managers and walks away. After the engineer has gone, one manager turns to another and laughs. \"Isn\\'t that just like an engineer? We\\'re looking for the height and he gives us the length.\"A Czechoslovakian man felt his eyesight was growing steadily worse, and felt it was time to go see an optometrist. The doctor started with some simple testing, and showed him a standard eye chart with letters of diminishing size: CRKBNWXSKZY... \"Can you read this?\" the doctor asked. \"Read it?\" the Czech answered. \"Doc, I know him!\"A guy had been feeling down for so long that he finally decided to seek the aid of a psychiatrist. He went there, lay on the couch, spilled his guts then waited for the profound wisdom of the psychiatrist to make him feel better. The psychiatrist asked me a few questions, took some notes then sat thinking in silence for a few minutes with a puzzled look on his face. He looked up with an expression of delight and said, \"I think your problem is low self-esteem. It is very common among losers.\"What is the rallying cry of the International Dyslexic Pride movement? Dyslexics Untie!A Jewish young man was seeing a psychiatrist for an eating and sleeping disorder. \"I am so obsessed with my mother...As soon as I go to sleep, I start dreaming, and everyone in my dream turns into my mother. I wake up in such a state, and all I can do is go downstairs and eat a piece of toast.\" The psychiatrist replies, \"What, just one piece of toast, for a big boy like you?\"Q: What did the blind person say when given some matzah? A: Who the hell wrote this?Sherlock Holmes and Dr. Watson go on a camping trip, set up their tent, and fall asleep. Some hours later, Holmes wakes his faithful friend. \"Watson, look up at the sky and tell me what you see.\" Watson replies, \"I see millions of stars.\" \"What does that tell you?\" Watson ponders for a minute. \"Astronomically speaking, it tells me that there are millions of galaxies and potentially billions of planets. Astrologically, it tells me that Saturn is in Leo. Timewise, it appears to be approximately a quarter past three. Theologically, it\\'s evident the Lord is all-powerful and we are small and insignificant. Meteorologically, it seems we will have a beautiful day tomorrow. What does it tell you?\" Holmes is silent for a moment, then speaks. \"Watson, you idiot, someone has stolen our tent.\"As a pre-med student, I had to take a difficult class in physics. One day our professor was discussing a particularly complicated concept. A student rudely interrupted to ask, \"Why do we have to learn this stuff?\" \"To save lives.\" The professor responded quickly and continued the lecture. A few minutes later, the same student spoke up again. \"So how does physics save lives?\" he persisted. \"It usually keeps the idiots like you out of medical school,\" replied the professor.One day, three men went to a shrine to ask the Father for forgiveness. The first man went to the Father... First Man: \"Father, Father, I have sinned!\" Father: \"What have you done?\" First Man: \"I have lied!\" Father: \"Drink the holy water and you will be saved.\" And so the man drank the water and was \"saved.\" The second man went up to the Father... Second Man: \"Father, Father, I have sinned!\" Father: \"What have you done?\" Second Man: \"I have stolen from the jeweler\\'s!\" Father: \"Drink the holy water and you will be saved.\" And so the second man drank the holy water and was \"saved.\" The third man went up to the Father... Third Man: \"Father, Father, I have sinned!\" Father: \"What have you done?\" Third Man: \"I peed in the holy water!\"Three engineering students were gathered together discussing the possible designers of the human body. One said, \"It was a mechanical engineer. Just look at all the joints.\" Another said, \"No, it was an electrical engineer. The nervous systems many thousands of electrical connections.\" The last said, \"Actually, it was a civil engineer. Who else would run a toxic waste pipeline through a recreational area?\"What\\'s the difference between a used tire and 365 used condoms? One\\'s a Goodyear, the other\\'s a great year.A guy walked past a mental hospital and heard a moaning voice: \"13...13...13...13...\" The man looked over to the hospital and saw a hole in the wall. He looked through the hole and got poked in the eye. The moaning voice then groaned: \"14...14...14...14...\"A Panda walks into a bar, sits down at a table and orders a beer and a double cheeseburger. After he is finished eating, he pulls out a gun and rips the place with gunfire. Patrons scatter and dive under chairs and tables as the bear runs out the door. After ensuring that no one is hurt, the bartender races out the door, and calls after the bear: \"What the hell did you do that for?\" The bear calls back, \"I\\'m a Panda. Look it up in the dictionary.\" The bartender returns, pulls out his dictionary. panda: \\\\Pan\"da\\\\, n. (Zo[\"o]l.) A small Asiatic mammal (Ailurus fulgens) having fine soft fur. It is related to the bears, and inhabits the mountains of Northern India. Eats shoots and leaves.It was the day of the big sale. Rumors of the sale (and some advertising in the local paper) were the main reason for the long line that formed by 8:30, the store\\'s opening time, in front of the store. A small man pushed his way to the front of the line, only to be pushed back, amid loud and colorful curses. On the man\\'s second attempt, he was punched square in the jaw, and knocked around a bit, and then thrown to the end of the line again. As he got up the second time, he said to the person at the end of the line... \"That does it! If they hit me one more time, I won\\'t open the store!\"At a recent Sacramento PC Users Group meeting, a company was demonstrating its latest speech- recognition software. A representative from the company was just about ready to start the demonstration and asked everyone in the room to quiet down. Just then, someone in the back of the room yelled, \"Format C: Return.\" Someone else chimed in: \"Yes, Return.\" Unfortunately, the software worked.What did the Buddhist say to the hot dog vendor? Make me one with everything.This guy\\'s wife asks, \"Honey, if I died would you remarry?\" and he replies, \"Well, after a considerable period of grieving, we all need companionship, so I guess I would.\" She then asks, \"If I died and you remarried, would she live in this house?\" and he replies, \"We\\'ve spent a lot of time and money getting this house just the way we want it. I\\'m not going to get rid of my house, so I guess she would.\" \"If I died and you remarried, and she lived in this house, would she sleep in our bed?\" and he says, \"That bed is brand new. We just paid two thousand dollars for it, and it\\'s going to last a long time, so I guess she would.\" So she asks, \"If I died and you remarried, and she lived in this house, and slept in our bed, would she use my golf clubs?\" \"Oh no, she\\'s left handed.\"A horse walks into a bar. The bartender asks: \"So, why the long face?\"Two atoms are walking down the street when one atom says to the other, \"Oh, my! I\\'ve lost an electron!\" The second atom says, \"Are you sure?\" The first replies, \"I\\'m positive!\"One Sunday morning William burst into the living room and said, \"Dad! Mom! I have some great news for you! I am getting married to the most beautiful girl in town. She lives a block away and her name is Susan.\" After dinner, William\\'s dad took him aside. \"Son, I have to talk with you. Your mother and I have been married 30 years. She\\'s a wonderful wife but she has never offered much excitement in the bedroom, so I used to fool around with women a lot. Susan is actually your half-sister, and I\\'m afraid you can\\'t marry her.\" William was heart-broken. After eight months he eventually started dating girls again. A year later he came home and very proudly announced, \"Dianne said yes! We\\'re getting married in June.\" Again his father insisted on another private conversation and broke the sad news. \"Dianne is your half-sister too, William. I\\'m awfully sorry about this.\" William was furious! He finally decided to go to his mother with the news. \"Dad has done so much harm.. I guess I\\'m never going to get married,\" he complained. \"Every time I fall in love, Dad tells me the girl is my half-sister.\" His mother just shook her head. \"Don\\'t pay any attention to what he says, dear. He\\'s not really your father.\"Recently a teacher, a garbage collector, and a lawyer wound up together at the Pearly Gates. St. Peter informed them that in order to get into Heaven, they would each have to answer one question. St. Peter addressed the teacher and asked, \"What was the name of the ship that crashed into the iceberg? They just made a movie about it.\" The teacher answered quickly, \"That would be the Titanic.\" St. Peter let him through the gate. St. Peter turned to the garbage man and, figuring Heaven didn\\'t really need all the odors that this guy would bring with him, decided to make the question a little harder: \"How many people died on the ship?\" Fortunately for him, the trash man had just seen the movie. \"1,228,\" he answered. \"That\\'s right! You may enter.\" St. Peter turned to the lawyer: \"Name them.\"One day, a professor was giving a big test to his students. He handed out the tests and went back to his desk to wait. Once the test was over, the students all handed the tests back in. The professor noticed that one of the students had attached a $100 bill to his test with a note saying: \"A dollar per point.\" The next class the professor handed the tests back out. This student got back his test...and $64 change!What does an atheist say during an orgasm? \"Oh Darwin! Oh Darwin!\"Do you believe in life after death? the boss asked one of his employees. \"Yes, sir,\" the new recruit replied. \"Well, then, that makes everything just fine...\" the boss went on. \"After you left early yesterday to go to your grandmother\\'s funeral, she stopped in to see you.\"The Chukcha (Russian Eskimo) phones up the Russian Parliament Building. A guard answers. Chukcha: \"What is required to become Parliament member?\" Guard: \"What are you, an idiot?\" Chukcha: \"Is it required?\"Q: What\\'s the difference between the government and the Mafia? A: One of them is organized.A mechanical engineer, an electrical engineer, and a software engineer from Microsoft were driving through the desert when the car broke down. The mechanical engineer said: \"It seems to be a problem with the fuel injection system, why don\\'t we pop the hood and I\\'ll take a look at it?\" To which the electrical engineer replied, \"No, I think it\\'s just a loose ground wire, I\\'ll get out and take a look.\" Then the software engineer from Microsoft jumps in. \"No, no, no. If we just close up all the windows, get out, wait a few minutes, get back in, and then reopen the windows everything will work fine.\"An astronomer, a physicist and a mathematician (it is said) were holidaying in Scotland. Glancing from a train window, they observed a black sheep in the middle of a field. \"How interesting,\" observed the astronomer, \"All Scottish sheep are black!\" To which the physicist responded, \"No, no! Some Scottish sheep are black!\" The mathematician gazed heavenward in supplication, and then intoned, \"In Scotland there exists at least one field, containing at least one sheep, at least one side of which is black.\"Two rednecks were seated at the end of a bar when a young lady seated a few stools up began to choke on a piece of hamburger. She was turning blue and obviously in serious respiratory distress. One said to the other, \"That gal there is having a bad time!\" The other agreed and said, \"Think we should go help?\" \"You bet,\" said the first, and with that, he ran over and said, \"Can you breathe?\" She shook her head no. He said, \"Can you speak?\" She again shook her head no. With that, he pulled up her skirt and licked her on the butt. She was so shocked, she coughed up the obstruction and began to breathe--with great relief. The redneck walked back to his friend and said, \"Funny how that hind lick maneuver always works.\"An Asian man goes into a New York CityBank to exchange 10,000 yen for American Currency. The teller gives him $72.00. The next month the Asian man goes into the same bank with 10,000 yen and receives $62.00. He asks, \"How come? Only $62.00?\" The teller says \"Fluctuations, fluctuations!\" Whereupon the Asian man looks back at the teller and says \"Fluk you Amelicans too!\"A man joins a big corporate empire as a trainee. On his very first day of work, he dials the pantry and shouts into the phone: \"Get me a coffee, quickly!\" The voice from the other side responds, \"You fool, you\\'ve dialed the wrong extension! Do you know who you\\'re talking to, dumbo?\" \"No,\" replied the trainee. \"It\\'s the CEO of the company, you fool!\" The trainee shouts back, \"And do YOU know who YOU are talking to, you fool?!\" \"No.\" replied the CEO indignantly. \"Good!\" replied the trainee, and puts down the phone.A guy walks into a bar, orders a beer and says to the bartender, \"Hey, I got this great Polish Joke...\" The barkeep glares at him and says in a warning tone of voice: \"Before you go telling that joke you better know that I\\'m Polish, both bouncers are Polish and so are most of my customers.\" \"Okay,\" says the customer. \"I\\'ll tell it very slowly.\"A man who recently completed a routine physical examination receives a phone call from his doctor. The doctor says, \"I have some good news and some bad news.\" The man says, \"Okay, give me the good news first.\" The doctor says, \"The good news is: you have 24 hours to live.\" The man replies, \"Shit! That\\'s the good news? Then what\\'s the bad news?\" The doctor says, \"The bad news is: I forgot to call you yesterday.\"Q: Ever wonder why the IRS calls it Form 1040? A: Because for every $50 that you earn, you get 10 and they get 40.The graduate with a Science degree asks, \"Why does it work?\" The graduate with an Engineering degree asks, \"How does it work?\" The graduate with an Accounting degree Asks, \"How much will it cost?\" The graduate with a Liberal Arts degree asks, \"Do you want fries with that?\"How many teddy bears does it take to change a lightbulb? It takes only one teddy bear, but it takes a whole lot of lightbulbs.Nurse: Doctor, Doctor, there\\'s an invisible man in the waiting room! Doctor: Well, go in there and tell him that I can\\'t see him!A man approached a very beautiful woman in a large supermarket and asked, \"You know, I\\'ve lost my wife here in the supermarket. Can you talk to me for a couple of minutes?\" \"Why?\" \"Because every time I talk to a beautiful woman my wife appears out of nowhere.\"A boy comes home from school and tells his mother that he got a part in the school play. \"What part?\" the mother asks. \"I play a Jewish husband,\" the boy replies. \"Go back to school and tell your teacher that you want a speaking role!\"A guy walks into a bar and sits down next to an extremely gorgeous woman. The first thing he notices about her though, are her pants. They were skin-tight, high-waisted and had no obvious mechanism (zipper, buttons or velcro) for opening them. After several minutes of puzzling over how she got the pants up over her hips, he finally worked up the nerve to ask her. \"Excuse me miss, but how do you get into your pants?\" \"Well,\" she replied, \"you can start by buying me a drink.\"Two kindergarten girls were talking outside: one said, \"You won\\'t believe what I saw on the patio yesterday....a condom!\" The second girl asked, \"What\\'s a patio?\"A woman has twins, and gives them up for adoption. One of them goes to a family in Egypt and is named \"Amal.\" The other goes to a family in Spain; they name him \"Juan.\" Years later, Juan sends a picture of himself to his mom. Upon receiving the picture, she tells her husband that she wishes she also had a picture of Amal. Her husband responds, \"But they are twins--if you\\'ve seen Juan, you\\'ve seen Amal.\"WASHINGTON (Reuters) - A tragic fire on Monday destroyed the personal library of President George W. Bush. Both of his books have been lost. Presidential spokesman Ari Fleischer said the president was devastated, as he had not finished coloring the second one.Person 1: Hey, wanna hear a great knock-knock joke? Person 2: Sure, What is it? Person 1: Okay, you start. Person 2: Knock-knock. Person 1: Who\\'s there? Person 2: ... Person 1: Hah!Q: How many stalkers does it take to change a light bulb? A: Two. One to replace the bulb, and the other to watch it day and night.A man escaped jail by digging a hole from his jail cell to the outside world. When finally his work was done, he emerged in the middle of a preschool playground. \"I\\'m free, I\\'m free!\" he shouted. \"So what?\" said a little girl. \"I\\'m four.\"Why are there so many Jones\\'s in the phone book? Because they all have phones.Q: How do you keep a computer programmer in the shower all day long? A: Give them a shampoo with a label that says \"rinse, lather, repeat.\"If pro- is the opposite of con-, then congress must be the opposite of progress.What a woman says: \"This place is a mess! C\\'mon, you and I need to clean up, your stuff is lying on the floor and you\\'ll have no clothes to wear if we don\\'t do laundry right now!\" What a man hears: \"blah, blah, blah, blah, C\\'mon blah, blah, blah, blah, you and I blah, blah, blah, blah, on the floor blah, blah, blah, blah, no clothes blah, blah, blah, blah, right now!\"Age and Womanhood 1. Between the ages of 13 and 18... She is like Africa, virgin and unexplored. 2. Between the ages of 19 and 35... She is like Asia, hot and exotic. 3. Between the ages of 36 and 45... She is like America, fully explored, breathtakingly beautiful, and free with her resources. 4. Between the ages of 46 and 56... She is like Europe, exhausted but still has points of interest. 5. After 56 she is like Australia... Everybody knows it\\'s down there, but who gives a damn?Did you hear about the Buddhist who refused Novocaine during a root canal? He wanted to transcend dental medication.A little boy goes to his dad and asks, \"What is politics?\" His dad says, \"Well son, let me try to explain it this way: I\\'m the breadwinner of the family, so let\\'s call me capitalism. Your Mom, she\\'s the administrator of the money, so we\\'ll call her the government. We\\'re here to take care of your needs, so we\\'ll call you the people. The nanny, we\\'ll consider her the working class. And your baby brother, we\\'ll call him the future. Now, think about that and see if that makes sense.\" So the little boy goes off to bed thinking about what dad had said. Later that night, he hears his baby brother crying, so he gets up to check on him. He finds that the baby has severely soiled his diaper. So the little boy goes to his parents\\' room and finds his mother sound asleep. Not wanting to wake her, he goes to the nanny\\'s room. Finding the door locked, he peeks in the keyhole and sees his father in bed with the nanny. He gives up and goes back to bed. The next morning, the little boy says to his father, \"Dad, I think I understand the concept of politics now.\" The father says, \"Good, son. Tell me in your own words what you think politics is all about.\" The little boy replies, \"Well, while capitalism is screwing the working class, the government is sound asleep, the people are being ignored and the future is in deep shit.\"Q: What\\'s the difference between a lawyer and a plumber? A: A plumber works to unclog the system.Jack Bauer can get McDonald\\'s breakfast after 10:30.Q: How many programmers does it take to change a lightbulb? A: NONE! That\\'s a hardware problem...A duck walks into a pharmacy and asks for a condom. The pharmacist asks, \"Would you like me to stick that on your bill?\" The duck says: \"What kind of duck do you think I am!\"A lady bought a new Lexus. It cost a bundle. Two days later, she brought it back, complaining that the radio was not working. \"Madam,\" said the sales manager, \"the audio system in this car is completely automatic. All you need to do is tell it what you want to listen to, and you will hear exactly that!\" She drove out, somewhat amazed and a little confused. She looked at the radio and said, \"Nelson.\" The radio responded, \"Ricky or Willie?\" She was astounded. If she wanted Beethoven, that\\'s what she got. If she wanted Nat King Cole, she got it. She was stopped at a traffic light enjoying \"On the Road Again\" when the light turned green and she pulled out. Suddenly an enormous sports utility vehicle coming from the street she was crossing sped toward her, obviously not paying attention to the light. She swerved and narrowly missed a collision. \"Idiot!\" she yelled and, from the radio, \"Ladies and gentlemen, the President of the United States.\"A bus station is where a bus stops. A train station is where a train stops. On my desk I have a work station...What do you call an American in the finals of the world cup? \"Hey beer man!\"Once upon a time, two brooms fell in love and decided to get married. Before the ceremony, the bride broom informed the groom broom that she was expecting a little whiskbroom. The groom broom was aghast! \"How is this possible?\" he asked. \"We\\'ve never swept together!\"America: 8:00 - Welcome to work! 12:00 - Lunch break 17:00 - The work day is over Japan: 8:00 - Are you already at work? 12:00 - Continue your work 17:00 - The work day is over 20:00 - Please finish your work Romania: 8:00 - Has anyone come to work? 12:00 - Did someone start working? 16:00 - Is anyone at work?During a recent publicity outing, Hillary sneaked off to visit a fortune teller of some local repute. In a dark and hazy room, peering into a crystal ball, the mystic delivered grave news. \"There\\'s no easy way to say this, so I\\'ll just be blunt: Prepare yourself to be a widow. Your husband will die a violent and horrible death this year.\" Visibly shaken, Hillary stared at the woman\\'s lined face, then at the single flickering candle, then down at her hands. She took a few deep breaths to compose herself. She simply had to know. She met the fortune teller\\'s gaze, steadied her voice, and asked her question. \"Will I be acquitted?\"Q. What\\'s O. J. Simpson\\'s web address? A. Slash, slash, backslash, slash, slash, escape.Hillary, Bill Clinton and the Pope are sitting together on an airplane. Bill says, \"I could throw one thousand-dollar bill out of this plane and make one person very happy.\" Hillary says, \"I could throw 10 hundred-dollar bills out of the plane and make 10 people very happy.\" The Pope chips in and says, \"I could throw Bill out of the airplane and make the whole country happy.\"President Clinton looks up from his desk in the Oval Office to see one of his aides nervously approach him. \"What is it?\" exclaims the President. \"It\\'s this Abortion Bill, Mr. President. What do you want to do about it?\" the aide asks. \"Just go ahead and pay it,\" responds the President.Arnold Schwarzenegger and Sylvester Stallone are making a movie about the lives of the great composers. Stallone says, \"I want to be Mozart.\" Swartzeneger says, \"In that case...I\\'ll be Bach.\"A man in a hot air balloon realized he was lost. He reduced altitude and spotted a woman below. He descended a bit more and shouted, \"Excuse me, can you help me? I promised a friend I would meet him an hour ago, but I don\\'t know where I am.\" The woman below replied, \"You are in a hot air balloon hovering approximately 30 feet above the ground. You are between 40 and 41 degrees north latitude and between 59 and 60 degrees west longitude.\" \"You must be an engineer,\" said the balloonist. \"I am,\" replied the woman. \"How did you know?\" \"Well,\" answered the balloonist, \"everything you told me is technically correct, but I have no idea what to make of your information, and the fact is, I am still lost. Frankly, you\\'ve not been much help so far.\" The woman below responded, \"You must be in management.\" \"I am,\" replied the balloonist, \"but how did you know?\" \"Well,\" said the woman, \"you don\\'t know where you are or where you are going. You have risen to where you are due to a large quantity of hot air. You made a promise that you have no idea how to keep, and you expect people beneath you to solve your problems. The fact is, you are in exactly the same position you were in before we met, but now, somehow, it\\'s my fault!\"Did you hear that Clinton has announced that there is a new national bird? The spread eagle.Q: What do Monica Lewinsky and Bob Dole have in common? A: They were both upset when Bill finished first.What\\'s the difference between a Macintosh and an Etch-a-Sketch? You don\\'t have to shake the Mac to clear the screen.Q: What is the difference between George Washington, Richard Nixon, and Bill Clinton? A: Washington couldn\\'t tell a lie, Nixon couldn\\'t tell the truth, and Clinton doesn\\'t know the difference.Q: Whats the difference between greeting a queen and greeting the President of the United States? A: You only have to get on one knee to greet the queen.'"
            ]
          },
          "metadata": {},
          "execution_count": 7
        }
      ]
    },
    {
      "cell_type": "code",
      "source": [
        "df.isnull().sum()"
      ],
      "metadata": {
        "colab": {
          "base_uri": "https://localhost:8080/"
        },
        "id": "_NvB-USt0JUW",
        "outputId": "efb2c032-2ebb-45be-f892-3b755f886366"
      },
      "execution_count": 8,
      "outputs": [
        {
          "output_type": "execute_result",
          "data": {
            "text/plain": [
              "id           0\n",
              "user_id      0\n",
              "joke_id      0\n",
              "Rating       0\n",
              "joke_text    0\n",
              "dtype: int64"
            ]
          },
          "metadata": {},
          "execution_count": 8
        }
      ]
    },
    {
      "cell_type": "code",
      "source": [
        "Q1 = df.quantile(0.25)\n",
        "Q3 = df.quantile(0.75)\n",
        "IQR = Q3-Q1\n",
        "print(IQR) "
      ],
      "metadata": {
        "colab": {
          "base_uri": "https://localhost:8080/"
        },
        "id": "KTsYpi9N0d6V",
        "outputId": "b86dd58d-70d5-4fbb-a65d-913818e55d62"
      },
      "execution_count": 9,
      "outputs": [
        {
          "output_type": "stream",
          "name": "stdout",
          "text": [
            "user_id    20372.0\n",
            "joke_id       82.0\n",
            "Rating         7.5\n",
            "dtype: float64\n"
          ]
        }
      ]
    },
    {
      "cell_type": "code",
      "source": [
        "df1 = df[~((df < (Q1 - 1.5 * IQR)) | (df > (Q3 + 1.5 * IQR))).any(axis=1)]"
      ],
      "metadata": {
        "id": "cfmrLxbj0nB2"
      },
      "execution_count": 10,
      "outputs": []
    },
    {
      "cell_type": "code",
      "source": [
        "df1.shape"
      ],
      "metadata": {
        "colab": {
          "base_uri": "https://localhost:8080/"
        },
        "id": "qFbhP90R08sM",
        "outputId": "116a0fde-cfe2-45c2-a665-fa62f71aaa1f"
      },
      "execution_count": 11,
      "outputs": [
        {
          "output_type": "execute_result",
          "data": {
            "text/plain": [
              "(1092059, 5)"
            ]
          },
          "metadata": {},
          "execution_count": 11
        }
      ]
    },
    {
      "cell_type": "code",
      "source": [
        "\n",
        "cor = df.corr()\n",
        "sns.heatmap(cor, annot=True, cmap=plt.cm.CMRmap_r)\n",
        "plt.show()"
      ],
      "metadata": {
        "colab": {
          "base_uri": "https://localhost:8080/",
          "height": 270
        },
        "id": "hkNIfWMY091M",
        "outputId": "8d05fdc3-dc45-4d77-9558-0ca61b9e293c"
      },
      "execution_count": 12,
      "outputs": [
        {
          "output_type": "display_data",
          "data": {
            "image/png": "[encoded data removed]",
            "text/plain": [
              "<Figure size 432x288 with 2 Axes>"
            ]
          },
          "metadata": {
            "needs_background": "light"
          }
        }
      ]
    },
    {
      "cell_type": "code",
      "source": [
        "target = df['Rating']\n",
        "input = df.drop(['id','user_id','Rating'],axis=1)"
      ],
      "metadata": {
        "id": "R3tdfwOj1DKH"
      },
      "execution_count": 13,
      "outputs": []
    },
    {
      "cell_type": "code",
      "source": [
        "input.head()"
      ],
      "metadata": {
        "colab": {
          "base_uri": "https://localhost:8080/",
          "height": 206
        },
        "id": "HY6v6pgu852U",
        "outputId": "cc76b5ea-07be-4a2e-954d-72874565462a"
      },
      "execution_count": 15,
      "outputs": [
        {
          "output_type": "execute_result",
          "data": {
            "text/html": [
              "\n",
              "  <div id=\"df-b3bbc44b-a065-4b93-abca-6a349073171f\">\n",
              "    <div class=\"colab-df-container\">\n",
              "      <div>\n",
              "<style scoped>\n",
              "    .dataframe tbody tr th:only-of-type {\n",
              "        vertical-align: middle;\n",
              "    }\n",
              "\n",
              "    .dataframe tbody tr th {\n",
              "        vertical-align: top;\n",
              "    }\n",
              "\n",
              "    .dataframe thead th {\n",
              "        text-align: right;\n",
              "    }\n",
              "</style>\n",
              "<table border=\"1\" class=\"dataframe\">\n",
              "  <thead>\n",
              "    <tr style=\"text-align: right;\">\n",
              "      <th></th>\n",
              "      <th>joke_id</th>\n",
              "      <th>joke_text</th>\n",
              "    </tr>\n",
              "  </thead>\n",
              "  <tbody>\n",
              "    <tr>\n",
              "      <th>0</th>\n",
              "      <td>110</td>\n",
              "      <td>Judy was having trouble with her computer, so ...</td>\n",
              "    </tr>\n",
              "    <tr>\n",
              "      <th>1</th>\n",
              "      <td>110</td>\n",
              "      <td>Judy was having trouble with her computer, so ...</td>\n",
              "    </tr>\n",
              "    <tr>\n",
              "      <th>2</th>\n",
              "      <td>110</td>\n",
              "      <td>Judy was having trouble with her computer, so ...</td>\n",
              "    </tr>\n",
              "    <tr>\n",
              "      <th>3</th>\n",
              "      <td>110</td>\n",
              "      <td>Judy was having trouble with her computer, so ...</td>\n",
              "    </tr>\n",
              "    <tr>\n",
              "      <th>4</th>\n",
              "      <td>110</td>\n",
              "      <td>Judy was having trouble with her computer, so ...</td>\n",
              "    </tr>\n",
              "  </tbody>\n",
              "</table>\n",
              "</div>\n",
              "      <button class=\"colab-df-convert\" onclick=\"convertToInteractive('df-b3bbc44b-a065-4b93-abca-6a349073171f')\"\n",
              "              title=\"Convert this dataframe to an interactive table.\"\n",
              "              style=\"display:none;\">\n",
              "        \n",
              "  <svg xmlns=\"http://www.w3.org/2000/svg\" height=\"24px\"viewBox=\"0 0 24 24\"\n",
              "       width=\"24px\">\n",
              "    <path d=\"M0 0h24v24H0V0z\" fill=\"none\"/>\n",
              "    <path d=\"M18.56 5.44l.94 2.06.94-2.06 2.06-.94-2.06-.94-.94-2.06-.94 2.06-2.06.94zm-11 1L8.5 8.5l.94-2.06 2.06-.94-2.06-.94L8.5 2.5l-.94 2.06-2.06.94zm10 10l.94 2.06.94-2.06 2.06-.94-2.06-.94-.94-2.06-.94 2.06-2.06.94z\"/><path d=\"M17.41 7.96l-1.37-1.37c-.4-.4-.92-.59-1.43-.59-.52 0-1.04.2-1.43.59L10.3 9.45l-7.72 7.72c-.78.78-.78 2.05 0 2.83L4 21.41c.39.39.9.59 1.41.59.51 0 1.02-.2 1.41-.59l7.78-7.78 2.81-2.81c.8-.78.8-2.07 0-2.86zM5.41 20L4 18.59l7.72-7.72 1.47 1.35L5.41 20z\"/>\n",
              "  </svg>\n",
              "      </button>\n",
              "      \n",
              "  <style>\n",
              "    .colab-df-container {\n",
              "      display:flex;\n",
              "      flex-wrap:wrap;\n",
              "      gap: 12px;\n",
              "    }\n",
              "\n",
              "    .colab-df-convert {\n",
              "      background-color: #E8F0FE;\n",
              "      border: none;\n",
              "      border-radius: 50%;\n",
              "      cursor: pointer;\n",
              "      display: none;\n",
              "      fill: #1967D2;\n",
              "      height: 32px;\n",
              "      padding: 0 0 0 0;\n",
              "      width: 32px;\n",
              "    }\n",
              "\n",
              "    .colab-df-convert:hover {\n",
              "      background-color: #E2EBFA;\n",
              "      box-shadow: 0px 1px 2px rgba(60, 64, 67, 0.3), 0px 1px 3px 1px rgba(60, 64, 67, 0.15);\n",
              "      fill: #174EA6;\n",
              "    }\n",
              "\n",
              "    [theme=dark] .colab-df-convert {\n",
              "      background-color: #3B4455;\n",
              "      fill: #D2E3FC;\n",
              "    }\n",
              "\n",
              "    [theme=dark] .colab-df-convert:hover {\n",
              "      background-color: #434B5C;\n",
              "      box-shadow: 0px 1px 3px 1px rgba(0, 0, 0, 0.15);\n",
              "      filter: drop-shadow(0px 1px 2px rgba(0, 0, 0, 0.3));\n",
              "      fill: #FFFFFF;\n",
              "    }\n",
              "  </style>\n",
              "\n",
              "      <script>\n",
              "        const buttonEl =\n",
              "          document.querySelector('#df-b3bbc44b-a065-4b93-abca-6a349073171f button.colab-df-convert');\n",
              "        buttonEl.style.display =\n",
              "          google.colab.kernel.accessAllowed ? 'block' : 'none';\n",
              "\n",
              "        async function convertToInteractive(key) {\n",
              "          const element = document.querySelector('#df-b3bbc44b-a065-4b93-abca-6a349073171f');\n",
              "          const dataTable =\n",
              "            await google.colab.kernel.invokeFunction('convertToInteractive',\n",
              "                                                     [key], {});\n",
              "          if (!dataTable) return;\n",
              "\n",
              "          const docLinkHtml = 'Like what you see? Visit the ' +\n",
              "            '<a target=\"_blank\" href=https://colab.research.google.com/notebooks/data_table.ipynb>data table notebook</a>'\n",
              "            + ' to learn more about interactive tables.';\n",
              "          element.innerHTML = '';\n",
              "          dataTable['output_type'] = 'display_data';\n",
              "          await google.colab.output.renderOutput(dataTable, element);\n",
              "          const docLink = document.createElement('div');\n",
              "          docLink.innerHTML = docLinkHtml;\n",
              "          element.appendChild(docLink);\n",
              "        }\n",
              "      </script>\n",
              "    </div>\n",
              "  </div>\n",
              "  "
            ],
            "text/plain": [
              "   joke_id                                          joke_text\n",
              "0      110  Judy was having trouble with her computer, so ...\n",
              "1      110  Judy was having trouble with her computer, so ...\n",
              "2      110  Judy was having trouble with her computer, so ...\n",
              "3      110  Judy was having trouble with her computer, so ...\n",
              "4      110  Judy was having trouble with her computer, so ..."
            ]
          },
          "metadata": {},
          "execution_count": 15
        }
      ]
    },
    {
      "cell_type": "code",
      "source": [
        "from sklearn import preprocessing\n",
        "label_encoder = preprocessing.LabelEncoder()\n",
        "input['joke_text']= label_encoder.fit_transform(input['joke_text'])\n",
        "input.head()"
      ],
      "metadata": {
        "colab": {
          "base_uri": "https://localhost:8080/",
          "height": 206
        },
        "id": "dNs-AkWj1m70",
        "outputId": "b272cad8-8ce5-4f27-efa1-e3cf125c035c"
      },
      "execution_count": 19,
      "outputs": [
        {
          "output_type": "execute_result",
          "data": {
            "text/html": [
              "\n",
              "  <div id=\"df-4702c4bf-1a52-43d3-b196-34d62667862d\">\n",
              "    <div class=\"colab-df-container\">\n",
              "      <div>\n",
              "<style scoped>\n",
              "    .dataframe tbody tr th:only-of-type {\n",
              "        vertical-align: middle;\n",
              "    }\n",
              "\n",
              "    .dataframe tbody tr th {\n",
              "        vertical-align: top;\n",
              "    }\n",
              "\n",
              "    .dataframe thead th {\n",
              "        text-align: right;\n",
              "    }\n",
              "</style>\n",
              "<table border=\"1\" class=\"dataframe\">\n",
              "  <thead>\n",
              "    <tr style=\"text-align: right;\">\n",
              "      <th></th>\n",
              "      <th>joke_id</th>\n",
              "      <th>joke_text</th>\n",
              "    </tr>\n",
              "  </thead>\n",
              "  <tbody>\n",
              "    <tr>\n",
              "      <th>0</th>\n",
              "      <td>110</td>\n",
              "      <td>76</td>\n",
              "    </tr>\n",
              "    <tr>\n",
              "      <th>1</th>\n",
              "      <td>110</td>\n",
              "      <td>76</td>\n",
              "    </tr>\n",
              "    <tr>\n",
              "      <th>2</th>\n",
              "      <td>110</td>\n",
              "      <td>76</td>\n",
              "    </tr>\n",
              "    <tr>\n",
              "      <th>3</th>\n",
              "      <td>110</td>\n",
              "      <td>76</td>\n",
              "    </tr>\n",
              "    <tr>\n",
              "      <th>4</th>\n",
              "      <td>110</td>\n",
              "      <td>76</td>\n",
              "    </tr>\n",
              "  </tbody>\n",
              "</table>\n",
              "</div>\n",
              "      <button class=\"colab-df-convert\" onclick=\"convertToInteractive('df-4702c4bf-1a52-43d3-b196-34d62667862d')\"\n",
              "              title=\"Convert this dataframe to an interactive table.\"\n",
              "              style=\"display:none;\">\n",
              "        \n",
              "  <svg xmlns=\"http://www.w3.org/2000/svg\" height=\"24px\"viewBox=\"0 0 24 24\"\n",
              "       width=\"24px\">\n",
              "    <path d=\"M0 0h24v24H0V0z\" fill=\"none\"/>\n",
              "    <path d=\"M18.56 5.44l.94 2.06.94-2.06 2.06-.94-2.06-.94-.94-2.06-.94 2.06-2.06.94zm-11 1L8.5 8.5l.94-2.06 2.06-.94-2.06-.94L8.5 2.5l-.94 2.06-2.06.94zm10 10l.94 2.06.94-2.06 2.06-.94-2.06-.94-.94-2.06-.94 2.06-2.06.94z\"/><path d=\"M17.41 7.96l-1.37-1.37c-.4-.4-.92-.59-1.43-.59-.52 0-1.04.2-1.43.59L10.3 9.45l-7.72 7.72c-.78.78-.78 2.05 0 2.83L4 21.41c.39.39.9.59 1.41.59.51 0 1.02-.2 1.41-.59l7.78-7.78 2.81-2.81c.8-.78.8-2.07 0-2.86zM5.41 20L4 18.59l7.72-7.72 1.47 1.35L5.41 20z\"/>\n",
              "  </svg>\n",
              "      </button>\n",
              "      \n",
              "  <style>\n",
              "    .colab-df-container {\n",
              "      display:flex;\n",
              "      flex-wrap:wrap;\n",
              "      gap: 12px;\n",
              "    }\n",
              "\n",
              "    .colab-df-convert {\n",
              "      background-color: #E8F0FE;\n",
              "      border: none;\n",
              "      border-radius: 50%;\n",
              "      cursor: pointer;\n",
              "      display: none;\n",
              "      fill: #1967D2;\n",
              "      height: 32px;\n",
              "      padding: 0 0 0 0;\n",
              "      width: 32px;\n",
              "    }\n",
              "\n",
              "    .colab-df-convert:hover {\n",
              "      background-color: #E2EBFA;\n",
              "      box-shadow: 0px 1px 2px rgba(60, 64, 67, 0.3), 0px 1px 3px 1px rgba(60, 64, 67, 0.15);\n",
              "      fill: #174EA6;\n",
              "    }\n",
              "\n",
              "    [theme=dark] .colab-df-convert {\n",
              "      background-color: #3B4455;\n",
              "      fill: #D2E3FC;\n",
              "    }\n",
              "\n",
              "    [theme=dark] .colab-df-convert:hover {\n",
              "      background-color: #434B5C;\n",
              "      box-shadow: 0px 1px 3px 1px rgba(0, 0, 0, 0.15);\n",
              "      filter: drop-shadow(0px 1px 2px rgba(0, 0, 0, 0.3));\n",
              "      fill: #FFFFFF;\n",
              "    }\n",
              "  </style>\n",
              "\n",
              "      <script>\n",
              "        const buttonEl =\n",
              "          document.querySelector('#df-4702c4bf-1a52-43d3-b196-34d62667862d button.colab-df-convert');\n",
              "        buttonEl.style.display =\n",
              "          google.colab.kernel.accessAllowed ? 'block' : 'none';\n",
              "\n",
              "        async function convertToInteractive(key) {\n",
              "          const element = document.querySelector('#df-4702c4bf-1a52-43d3-b196-34d62667862d');\n",
              "          const dataTable =\n",
              "            await google.colab.kernel.invokeFunction('convertToInteractive',\n",
              "                                                     [key], {});\n",
              "          if (!dataTable) return;\n",
              "\n",
              "          const docLinkHtml = 'Like what you see? Visit the ' +\n",
              "            '<a target=\"_blank\" href=https://colab.research.google.com/notebooks/data_table.ipynb>data table notebook</a>'\n",
              "            + ' to learn more about interactive tables.';\n",
              "          element.innerHTML = '';\n",
              "          dataTable['output_type'] = 'display_data';\n",
              "          await google.colab.output.renderOutput(dataTable, element);\n",
              "          const docLink = document.createElement('div');\n",
              "          docLink.innerHTML = docLinkHtml;\n",
              "          element.appendChild(docLink);\n",
              "        }\n",
              "      </script>\n",
              "    </div>\n",
              "  </div>\n",
              "  "
            ],
            "text/plain": [
              "   joke_id  joke_text\n",
              "0      110         76\n",
              "1      110         76\n",
              "2      110         76\n",
              "3      110         76\n",
              "4      110         76"
            ]
          },
          "metadata": {},
          "execution_count": 19
        }
      ]
    },
    {
      "cell_type": "code",
      "source": [
        "from sklearn.linear_model import LinearRegression\n",
        "LR = LinearRegression()\n",
        "model = LR.fit(input,target)"
      ],
      "metadata": {
        "id": "iZUe0Qn94L70"
      },
      "execution_count": 20,
      "outputs": []
    },
    {
      "cell_type": "code",
      "source": [
        "df_test = pd.read_csv('/content/drive/MyDrive/Analytics Vidhya/Joke Prediction/test.csv')\n",
        "df_test.head()"
      ],
      "metadata": {
        "colab": {
          "base_uri": "https://localhost:8080/",
          "height": 206
        },
        "id": "IZQ0kIwf4Vd8",
        "outputId": "2cebf43c-7b78-400e-ec75-f440d2704e54"
      },
      "execution_count": 22,
      "outputs": [
        {
          "output_type": "execute_result",
          "data": {
            "text/html": [
              "\n",
              "  <div id=\"df-90d78a98-ea09-4cdb-b29b-0f5976c02529\">\n",
              "    <div class=\"colab-df-container\">\n",
              "      <div>\n",
              "<style scoped>\n",
              "    .dataframe tbody tr th:only-of-type {\n",
              "        vertical-align: middle;\n",
              "    }\n",
              "\n",
              "    .dataframe tbody tr th {\n",
              "        vertical-align: top;\n",
              "    }\n",
              "\n",
              "    .dataframe thead th {\n",
              "        text-align: right;\n",
              "    }\n",
              "</style>\n",
              "<table border=\"1\" class=\"dataframe\">\n",
              "  <thead>\n",
              "    <tr style=\"text-align: right;\">\n",
              "      <th></th>\n",
              "      <th>id</th>\n",
              "      <th>user_id</th>\n",
              "      <th>joke_id</th>\n",
              "    </tr>\n",
              "  </thead>\n",
              "  <tbody>\n",
              "    <tr>\n",
              "      <th>0</th>\n",
              "      <td>6194_11</td>\n",
              "      <td>6194</td>\n",
              "      <td>11</td>\n",
              "    </tr>\n",
              "    <tr>\n",
              "      <th>1</th>\n",
              "      <td>19356_3</td>\n",
              "      <td>19356</td>\n",
              "      <td>3</td>\n",
              "    </tr>\n",
              "    <tr>\n",
              "      <th>2</th>\n",
              "      <td>23426_79</td>\n",
              "      <td>23426</td>\n",
              "      <td>79</td>\n",
              "    </tr>\n",
              "    <tr>\n",
              "      <th>3</th>\n",
              "      <td>40030_3</td>\n",
              "      <td>40030</td>\n",
              "      <td>3</td>\n",
              "    </tr>\n",
              "    <tr>\n",
              "      <th>4</th>\n",
              "      <td>19806_115</td>\n",
              "      <td>19806</td>\n",
              "      <td>115</td>\n",
              "    </tr>\n",
              "  </tbody>\n",
              "</table>\n",
              "</div>\n",
              "      <button class=\"colab-df-convert\" onclick=\"convertToInteractive('df-90d78a98-ea09-4cdb-b29b-0f5976c02529')\"\n",
              "              title=\"Convert this dataframe to an interactive table.\"\n",
              "              style=\"display:none;\">\n",
              "        \n",
              "  <svg xmlns=\"http://www.w3.org/2000/svg\" height=\"24px\"viewBox=\"0 0 24 24\"\n",
              "       width=\"24px\">\n",
              "    <path d=\"M0 0h24v24H0V0z\" fill=\"none\"/>\n",
              "    <path d=\"M18.56 5.44l.94 2.06.94-2.06 2.06-.94-2.06-.94-.94-2.06-.94 2.06-2.06.94zm-11 1L8.5 8.5l.94-2.06 2.06-.94-2.06-.94L8.5 2.5l-.94 2.06-2.06.94zm10 10l.94 2.06.94-2.06 2.06-.94-2.06-.94-.94-2.06-.94 2.06-2.06.94z\"/><path d=\"M17.41 7.96l-1.37-1.37c-.4-.4-.92-.59-1.43-.59-.52 0-1.04.2-1.43.59L10.3 9.45l-7.72 7.72c-.78.78-.78 2.05 0 2.83L4 21.41c.39.39.9.59 1.41.59.51 0 1.02-.2 1.41-.59l7.78-7.78 2.81-2.81c.8-.78.8-2.07 0-2.86zM5.41 20L4 18.59l7.72-7.72 1.47 1.35L5.41 20z\"/>\n",
              "  </svg>\n",
              "      </button>\n",
              "      \n",
              "  <style>\n",
              "    .colab-df-container {\n",
              "      display:flex;\n",
              "      flex-wrap:wrap;\n",
              "      gap: 12px;\n",
              "    }\n",
              "\n",
              "    .colab-df-convert {\n",
              "      background-color: #E8F0FE;\n",
              "      border: none;\n",
              "      border-radius: 50%;\n",
              "      cursor: pointer;\n",
              "      display: none;\n",
              "      fill: #1967D2;\n",
              "      height: 32px;\n",
              "      padding: 0 0 0 0;\n",
              "      width: 32px;\n",
              "    }\n",
              "\n",
              "    .colab-df-convert:hover {\n",
              "      background-color: #E2EBFA;\n",
              "      box-shadow: 0px 1px 2px rgba(60, 64, 67, 0.3), 0px 1px 3px 1px rgba(60, 64, 67, 0.15);\n",
              "      fill: #174EA6;\n",
              "    }\n",
              "\n",
              "    [theme=dark] .colab-df-convert {\n",
              "      background-color: #3B4455;\n",
              "      fill: #D2E3FC;\n",
              "    }\n",
              "\n",
              "    [theme=dark] .colab-df-convert:hover {\n",
              "      background-color: #434B5C;\n",
              "      box-shadow: 0px 1px 3px 1px rgba(0, 0, 0, 0.15);\n",
              "      filter: drop-shadow(0px 1px 2px rgba(0, 0, 0, 0.3));\n",
              "      fill: #FFFFFF;\n",
              "    }\n",
              "  </style>\n",
              "\n",
              "      <script>\n",
              "        const buttonEl =\n",
              "          document.querySelector('#df-90d78a98-ea09-4cdb-b29b-0f5976c02529 button.colab-df-convert');\n",
              "        buttonEl.style.display =\n",
              "          google.colab.kernel.accessAllowed ? 'block' : 'none';\n",
              "\n",
              "        async function convertToInteractive(key) {\n",
              "          const element = document.querySelector('#df-90d78a98-ea09-4cdb-b29b-0f5976c02529');\n",
              "          const dataTable =\n",
              "            await google.colab.kernel.invokeFunction('convertToInteractive',\n",
              "                                                     [key], {});\n",
              "          if (!dataTable) return;\n",
              "\n",
              "          const docLinkHtml = 'Like what you see? Visit the ' +\n",
              "            '<a target=\"_blank\" href=https://colab.research.google.com/notebooks/data_table.ipynb>data table notebook</a>'\n",
              "            + ' to learn more about interactive tables.';\n",
              "          element.innerHTML = '';\n",
              "          dataTable['output_type'] = 'display_data';\n",
              "          await google.colab.output.renderOutput(dataTable, element);\n",
              "          const docLink = document.createElement('div');\n",
              "          docLink.innerHTML = docLinkHtml;\n",
              "          element.appendChild(docLink);\n",
              "        }\n",
              "      </script>\n",
              "    </div>\n",
              "  </div>\n",
              "  "
            ],
            "text/plain": [
              "          id  user_id  joke_id\n",
              "0    6194_11     6194       11\n",
              "1    19356_3    19356        3\n",
              "2   23426_79    23426       79\n",
              "3    40030_3    40030        3\n",
              "4  19806_115    19806      115"
            ]
          },
          "metadata": {},
          "execution_count": 22
        }
      ]
    },
    {
      "cell_type": "code",
      "source": [
        "input_test = df_test.drop(['id'],axis=1)\n",
        "input_test.head()"
      ],
      "metadata": {
        "colab": {
          "base_uri": "https://localhost:8080/",
          "height": 206
        },
        "id": "9uUuafaq9TAl",
        "outputId": "f7605dc7-f262-4581-ba49-d77330788852"
      },
      "execution_count": 23,
      "outputs": [
        {
          "output_type": "execute_result",
          "data": {
            "text/html": [
              "\n",
              "  <div id=\"df-5026f981-5355-47ce-be30-5d133a228b1b\">\n",
              "    <div class=\"colab-df-container\">\n",
              "      <div>\n",
              "<style scoped>\n",
              "    .dataframe tbody tr th:only-of-type {\n",
              "        vertical-align: middle;\n",
              "    }\n",
              "\n",
              "    .dataframe tbody tr th {\n",
              "        vertical-align: top;\n",
              "    }\n",
              "\n",
              "    .dataframe thead th {\n",
              "        text-align: right;\n",
              "    }\n",
              "</style>\n",
              "<table border=\"1\" class=\"dataframe\">\n",
              "  <thead>\n",
              "    <tr style=\"text-align: right;\">\n",
              "      <th></th>\n",
              "      <th>user_id</th>\n",
              "      <th>joke_id</th>\n",
              "    </tr>\n",
              "  </thead>\n",
              "  <tbody>\n",
              "    <tr>\n",
              "      <th>0</th>\n",
              "      <td>6194</td>\n",
              "      <td>11</td>\n",
              "    </tr>\n",
              "    <tr>\n",
              "      <th>1</th>\n",
              "      <td>19356</td>\n",
              "      <td>3</td>\n",
              "    </tr>\n",
              "    <tr>\n",
              "      <th>2</th>\n",
              "      <td>23426</td>\n",
              "      <td>79</td>\n",
              "    </tr>\n",
              "    <tr>\n",
              "      <th>3</th>\n",
              "      <td>40030</td>\n",
              "      <td>3</td>\n",
              "    </tr>\n",
              "    <tr>\n",
              "      <th>4</th>\n",
              "      <td>19806</td>\n",
              "      <td>115</td>\n",
              "    </tr>\n",
              "  </tbody>\n",
              "</table>\n",
              "</div>\n",
              "      <button class=\"colab-df-convert\" onclick=\"convertToInteractive('df-5026f981-5355-47ce-be30-5d133a228b1b')\"\n",
              "              title=\"Convert this dataframe to an interactive table.\"\n",
              "              style=\"display:none;\">\n",
              "        \n",
              "  <svg xmlns=\"http://www.w3.org/2000/svg\" height=\"24px\"viewBox=\"0 0 24 24\"\n",
              "       width=\"24px\">\n",
              "    <path d=\"M0 0h24v24H0V0z\" fill=\"none\"/>\n",
              "    <path d=\"M18.56 5.44l.94 2.06.94-2.06 2.06-.94-2.06-.94-.94-2.06-.94 2.06-2.06.94zm-11 1L8.5 8.5l.94-2.06 2.06-.94-2.06-.94L8.5 2.5l-.94 2.06-2.06.94zm10 10l.94 2.06.94-2.06 2.06-.94-2.06-.94-.94-2.06-.94 2.06-2.06.94z\"/><path d=\"M17.41 7.96l-1.37-1.37c-.4-.4-.92-.59-1.43-.59-.52 0-1.04.2-1.43.59L10.3 9.45l-7.72 7.72c-.78.78-.78 2.05 0 2.83L4 21.41c.39.39.9.59 1.41.59.51 0 1.02-.2 1.41-.59l7.78-7.78 2.81-2.81c.8-.78.8-2.07 0-2.86zM5.41 20L4 18.59l7.72-7.72 1.47 1.35L5.41 20z\"/>\n",
              "  </svg>\n",
              "      </button>\n",
              "      \n",
              "  <style>\n",
              "    .colab-df-container {\n",
              "      display:flex;\n",
              "      flex-wrap:wrap;\n",
              "      gap: 12px;\n",
              "    }\n",
              "\n",
              "    .colab-df-convert {\n",
              "      background-color: #E8F0FE;\n",
              "      border: none;\n",
              "      border-radius: 50%;\n",
              "      cursor: pointer;\n",
              "      display: none;\n",
              "      fill: #1967D2;\n",
              "      height: 32px;\n",
              "      padding: 0 0 0 0;\n",
              "      width: 32px;\n",
              "    }\n",
              "\n",
              "    .colab-df-convert:hover {\n",
              "      background-color: #E2EBFA;\n",
              "      box-shadow: 0px 1px 2px rgba(60, 64, 67, 0.3), 0px 1px 3px 1px rgba(60, 64, 67, 0.15);\n",
              "      fill: #174EA6;\n",
              "    }\n",
              "\n",
              "    [theme=dark] .colab-df-convert {\n",
              "      background-color: #3B4455;\n",
              "      fill: #D2E3FC;\n",
              "    }\n",
              "\n",
              "    [theme=dark] .colab-df-convert:hover {\n",
              "      background-color: #434B5C;\n",
              "      box-shadow: 0px 1px 3px 1px rgba(0, 0, 0, 0.15);\n",
              "      filter: drop-shadow(0px 1px 2px rgba(0, 0, 0, 0.3));\n",
              "      fill: #FFFFFF;\n",
              "    }\n",
              "  </style>\n",
              "\n",
              "      <script>\n",
              "        const buttonEl =\n",
              "          document.querySelector('#df-5026f981-5355-47ce-be30-5d133a228b1b button.colab-df-convert');\n",
              "        buttonEl.style.display =\n",
              "          google.colab.kernel.accessAllowed ? 'block' : 'none';\n",
              "\n",
              "        async function convertToInteractive(key) {\n",
              "          const element = document.querySelector('#df-5026f981-5355-47ce-be30-5d133a228b1b');\n",
              "          const dataTable =\n",
              "            await google.colab.kernel.invokeFunction('convertToInteractive',\n",
              "                                                     [key], {});\n",
              "          if (!dataTable) return;\n",
              "\n",
              "          const docLinkHtml = 'Like what you see? Visit the ' +\n",
              "            '<a target=\"_blank\" href=https://colab.research.google.com/notebooks/data_table.ipynb>data table notebook</a>'\n",
              "            + ' to learn more about interactive tables.';\n",
              "          element.innerHTML = '';\n",
              "          dataTable['output_type'] = 'display_data';\n",
              "          await google.colab.output.renderOutput(dataTable, element);\n",
              "          const docLink = document.createElement('div');\n",
              "          docLink.innerHTML = docLinkHtml;\n",
              "          element.appendChild(docLink);\n",
              "        }\n",
              "      </script>\n",
              "    </div>\n",
              "  </div>\n",
              "  "
            ],
            "text/plain": [
              "   user_id  joke_id\n",
              "0     6194       11\n",
              "1    19356        3\n",
              "2    23426       79\n",
              "3    40030        3\n",
              "4    19806      115"
            ]
          },
          "metadata": {},
          "execution_count": 23
        }
      ]
    },
    {
      "cell_type": "code",
      "source": [
        "predicted = LR.predict(input_test)\n",
        "predicted.reshape(-1,1)\n",
        "predicted.astype(int)"
      ],
      "metadata": {
        "colab": {
          "base_uri": "https://localhost:8080/"
        },
        "id": "3QE_gfWV9b1s",
        "outputId": "474b97a7-2579-4981-cb3c-272a08070385"
      },
      "execution_count": 27,
      "outputs": [
        {
          "output_type": "stream",
          "name": "stderr",
          "text": [
            "/usr/local/lib/python3.7/dist-packages/sklearn/base.py:488: FutureWarning: The feature names should match those that were passed during fit. Starting version 1.2, an error will be raised.\n",
            "Feature names unseen at fit time:\n",
            "- user_id\n",
            "Feature names seen at fit time, yet now missing:\n",
            "- joke_text\n",
            "\n",
            "  warnings.warn(message, FutureWarning)\n"
          ]
        },
        {
          "output_type": "execute_result",
          "data": {
            "text/plain": [
              "array([110, 343, 415, ...,  73, 347, 720])"
            ]
          },
          "metadata": {},
          "execution_count": 27
        }
      ]
    },
    {
      "cell_type": "code",
      "source": [
        "df3_final = pd.read_excel('/content/drive/MyDrive/Analytics Vidhya/Joke Prediction/Joke_Prediction_sample.xlsx')"
      ],
      "metadata": {
        "id": "v8ca6dPK9hYs"
      },
      "execution_count": 30,
      "outputs": []
    },
    {
      "cell_type": "code",
      "source": [
        "df3_final = pd.DataFrame()\n",
        "df3_final['id'] = df_test['id']\n",
        "df3_final['Rating'] = predicted.astype(int)\n",
        "df3_final.to_csv('/content/drive/MyDrive/Analytics Vidhya/Joke Prediction/Joke_Prediction_sample.xlsx', header='id')"
      ],
      "metadata": {
        "id": "n5fpt-oc-RXI"
      },
      "execution_count": 32,
      "outputs": []
    },
    {
      "cell_type": "code",
      "source": [
        ""
      ],
      "metadata": {
        "id": "3AuM9zOv-vPF"
      },
      "execution_count": null,
      "outputs": []
    }
  ]
}